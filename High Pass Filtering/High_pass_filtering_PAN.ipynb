{
  "nbformat": 4,
  "nbformat_minor": 0,
  "metadata": {
    "colab": {
      "provenance": []
    },
    "kernelspec": {
      "name": "python3",
      "display_name": "Python 3"
    },
    "language_info": {
      "name": "python"
    }
  },
  "cells": [
    {
      "cell_type": "code",
      "execution_count": 1,
      "metadata": {
        "id": "e2z86xtnqCzu"
      },
      "outputs": [],
      "source": [
        "import cv2\n",
        "import numpy as np\n",
        "import matplotlib.pyplot as plt\n",
        "import tifffile as tiff\n",
        "import gc\n",
        "from skimage.metrics import peak_signal_noise_ratio, structural_similarity, mean_squared_error\n",
        "from scipy.stats import pearsonr"
      ]
    },
    {
      "cell_type": "code",
      "source": [
        "def crop_and_straighten(img, threshold=10, visualize=False):\n",
        "    if len(img.shape) == 2 or img.shape[2] == 1:\n",
        "        gray = img if len(img.shape) == 2 else img[:, :, 0]\n",
        "    else:\n",
        "        gray = cv2.cvtColor(img, cv2.COLOR_RGB2GRAY)\n",
        "\n",
        "    # Normalize to 8-bit for contour processing\n",
        "    gray_8bit = cv2.normalize(gray, None, 0, 255, cv2.NORM_MINMAX)\n",
        "    gray_8bit = gray_8bit.astype(np.uint8)\n",
        "\n",
        "    # Create binary mask for valid region\n",
        "    _, mask = cv2.threshold(gray_8bit, threshold, 255, cv2.THRESH_BINARY)\n",
        "\n",
        "    # Find contours\n",
        "    contours, _ = cv2.findContours(mask, cv2.RETR_EXTERNAL, cv2.CHAIN_APPROX_SIMPLE)\n",
        "\n",
        "    if not contours:\n",
        "        raise ValueError(\"No valid region found!\")\n",
        "\n",
        "    # Largest contour\n",
        "    cnt = max(contours, key=cv2.contourArea)\n",
        "    rect = cv2.minAreaRect(cnt)\n",
        "    box = cv2.boxPoints(rect)\n",
        "    box = np.intp(box)\n",
        "    # print(box)\n",
        "\n",
        "    width, height = int(rect[1][0]), int(rect[1][1])\n",
        "    dst_pts = np.array([[0, height-1],\n",
        "                        [0, 0],\n",
        "                        [width-1, 0],\n",
        "                        [width-1, height-1]], dtype=\"float32\")\n",
        "    src_pts = box.astype(\"float32\")\n",
        "\n",
        "    M = cv2.getPerspectiveTransform(src_pts, dst_pts)\n",
        "    warped = cv2.warpPerspective(img, M, (width, height))\n",
        "\n",
        "    if visualize:\n",
        "        plt.imshow(warped, cmap='gray' if len(warped.shape) == 2 else None)\n",
        "        plt.title(\"Straightened & Cropped Image\")\n",
        "        plt.axis(\"off\")\n",
        "        plt.show()\n",
        "\n",
        "    return warped\n",
        "\n",
        "\n",
        "def compute_quality_metrics(ref_img, test_img, PSNR=True):\n",
        "    assert ref_img.shape == test_img.shape, \"Images must have the same shape\"\n",
        "    assert ref_img.ndim == 3, \"Images must be H x W x C\"\n",
        "\n",
        "    psnr_list = []\n",
        "    cc_list = []\n",
        "    ssim_list = []\n",
        "    rmse_list = []\n",
        "\n",
        "    for i in range(ref_img.shape[2]):\n",
        "        ref_band = ref_img[:, :, i].astype(np.float64)\n",
        "        test_band = test_img[:, :, i].astype(np.float64)\n",
        "\n",
        "        # Use fixed data range for uint16 images\n",
        "        data_range = 65535.0\n",
        "\n",
        "        if PSNR:\n",
        "          psnr_val = peak_signal_noise_ratio(ref_band, test_band, data_range=data_range)\n",
        "          psnr_list.append(psnr_val)\n",
        "\n",
        "\n",
        "        # cc_val, _ = pearsonr(ref_band.flatten(), test_band.flatten())\n",
        "        # ssim_val = structural_similarity(ref_band, test_band, data_range=data_range)\n",
        "        else:\n",
        "          rmse_val = np.sqrt(mean_squared_error(ref_band, test_band))\n",
        "          mean_ref = np.mean(ref_band)\n",
        "          rel_rmse = rmse_val / mean_ref if mean_ref != 0 else 0\n",
        "          rmse_list.append(rel_rmse)\n",
        "\n",
        "\n",
        "        # cc_list.append(cc_val)\n",
        "        # ssim_list.append(ssim_val)\n",
        "\n",
        "        if PSNR:\n",
        "            return {\n",
        "              \"PSNR\": np.mean(psnr_list)\n",
        "            }\n",
        "        else:\n",
        "            return {\n",
        "                \"RMSE\": np.mean(rmse_list)\n",
        "            }\n",
        "\n",
        "def calculate_ergas(original_ms, pansharpened_ms, ratio):\n",
        "    if original_ms.shape != pansharpened_ms.shape:\n",
        "        raise ValueError(\"Images must be the same shape. Resample the original MS image first.\")\n",
        "\n",
        "    N = original_ms.shape[2]\n",
        "    ergas_sum = 0\n",
        "\n",
        "    for i in range(N):\n",
        "        ref_band = original_ms[:, :, i].astype(np.float64)\n",
        "        pan_band = pansharpened_ms[:, :, i].astype(np.float64)\n",
        "\n",
        "        rmse = np.sqrt(mean_squared_error(ref_band, pan_band))\n",
        "        mean_val = np.mean(ref_band)\n",
        "\n",
        "        ergas_sum += (rmse / mean_val) ** 2\n",
        "\n",
        "    ergas = 100 * (ratio) * np.sqrt(ergas_sum / N)\n",
        "    return ergas\n",
        "\n",
        "\n",
        "def compute_sam(img1, img2, eps=1e-8):\n",
        "    # Flatten spatial dimensions\n",
        "    X = img1.reshape(-1, img1.shape[-1]).astype(np.float32)\n",
        "    Y = img2.reshape(-1, img2.shape[-1]).astype(np.float32)\n",
        "\n",
        "    # Compute dot product and norms\n",
        "    dot_product = np.sum(X * Y, axis=1)\n",
        "    norm_x = np.linalg.norm(X, axis=1)\n",
        "    norm_y = np.linalg.norm(Y, axis=1)\n",
        "\n",
        "    # Avoid division by zero\n",
        "    denom = np.clip(norm_x * norm_y, eps, None)\n",
        "\n",
        "    # Compute angle (in radians)\n",
        "    sam = np.arccos(np.clip(dot_product / denom, -1.0, 1.0))\n",
        "    sam_map = sam.reshape(img1.shape[0], img1.shape[1])\n",
        "\n",
        "    mean_sam = np.mean(sam)\n",
        "\n",
        "    sam_map_safe = np.clip(sam_map, 1e-6, None)\n",
        "\n",
        "    # Normalize to [0, 1]\n",
        "    sam_map_norm = sam_map_safe / np.max(sam_map_safe)\n",
        "\n",
        "    # Apply log transform\n",
        "    sam_log = np.log1p(sam_map_norm)  # log(1 + x)\n",
        "\n",
        "    # Normalize again and scale to 0-255\n",
        "    sam_log_norm = (sam_log / np.max(sam_log)) * 255\n",
        "    return sam_log_norm.astype(np.uint8) , mean_sam\n",
        "\n",
        "def visualize_sam_map(sam_map, cmap='inferno'):\n",
        "    plt.figure(figsize=(8, 6))\n",
        "    plt.imshow(np.degrees(sam_map), cmap=cmap)\n",
        "    plt.colorbar(label='SAM (degrees)')\n",
        "    plt.title(\"Spectral Angle Mapper (SAM) Map\")\n",
        "    plt.axis('off')\n",
        "    plt.tight_layout()\n",
        "    plt.show()\n"
      ],
      "metadata": {
        "id": "KLp1No32lXam"
      },
      "execution_count": 3,
      "outputs": []
    },
    {
      "cell_type": "code",
      "source": [
        "\n",
        "# Read the TIFF image\n",
        "image_b = tiff.imread('/content/LC08_L1TP_B2.tiff')\n",
        "image_g = tiff.imread('/content/LC08_L1TP_B3.tiff')\n",
        "image_r = tiff.imread('/content/LC08_L1TP_B4.tiff')\n",
        "image_ir = tiff.imread('/content/LC08_L1TP_B5.tiff')\n",
        "image_pan = tiff.imread('/content/LC08_L1TP_B8.tiff')\n",
        "\n",
        "# Check if image is loaded successfully\n",
        "if image_b is None:\n",
        "    print(\"Failed to load image.\")\n",
        "else:\n",
        "    print(\"Image shape:\", image_b.shape)\n",
        "    # Display the image\n"
      ],
      "metadata": {
        "colab": {
          "base_uri": "https://localhost:8080/"
        },
        "id": "JOlHCGTrqOZC",
        "outputId": "09882abb-f692-4e4e-eb58-9931f3dd1796"
      },
      "execution_count": 4,
      "outputs": [
        {
          "output_type": "stream",
          "name": "stdout",
          "text": [
            "Image shape: (7951, 7821)\n"
          ]
        }
      ]
    },
    {
      "cell_type": "code",
      "source": [
        "image_b = crop_and_straighten(image_b,visualize=False);\n",
        "image_g = crop_and_straighten(image_g,visualize=False);\n",
        "image_r = crop_and_straighten(image_r,visualize=False);\n",
        "image_ir = crop_and_straighten(image_ir,visualize=False);\n",
        "image_pan = crop_and_straighten(image_pan,visualize=False);"
      ],
      "metadata": {
        "id": "DN53H2gqmu1I"
      },
      "execution_count": 5,
      "outputs": []
    },
    {
      "cell_type": "code",
      "source": [
        "print(image_b.shape)\n",
        "print(image_g.shape)\n",
        "print(image_r.shape)\n",
        "print(image_ir.shape)\n",
        "print(image_pan.shape)"
      ],
      "metadata": {
        "colab": {
          "base_uri": "https://localhost:8080/"
        },
        "id": "HJjIdT2Eo5b8",
        "outputId": "ffc25aa8-f99b-4dcd-b6b7-771552296f71"
      },
      "execution_count": 6,
      "outputs": [
        {
          "output_type": "stream",
          "name": "stdout",
          "text": [
            "(6552, 6350)\n",
            "(6552, 6351)\n",
            "(6552, 6350)\n",
            "(6552, 6351)\n",
            "(13105, 12715)\n"
          ]
        }
      ]
    },
    {
      "cell_type": "code",
      "source": [
        "image_b =  cv2.resize(image_b, (6348, 6550), interpolation=cv2.INTER_LINEAR)\n",
        "image_r =  cv2.resize(image_r, (6348, 6550), interpolation=cv2.INTER_LINEAR)\n",
        "image_g =  cv2.resize(image_g, (6348, 6550), interpolation=cv2.INTER_LINEAR)\n",
        "image_ir =  cv2.resize(image_ir, (6348, 6550), interpolation=cv2.INTER_LINEAR)"
      ],
      "metadata": {
        "id": "DHimidbHpW45"
      },
      "execution_count": 7,
      "outputs": []
    },
    {
      "cell_type": "code",
      "source": [
        "ms_image = np.stack([image_b,image_g,image_r,image_ir],axis=-1)"
      ],
      "metadata": {
        "id": "Bzhieam3D5qP"
      },
      "execution_count": 8,
      "outputs": []
    },
    {
      "cell_type": "code",
      "source": [
        "ms_image.shape"
      ],
      "metadata": {
        "colab": {
          "base_uri": "https://localhost:8080/"
        },
        "id": "QlxZ24AvEASd",
        "outputId": "6ab761ae-a07d-4edf-e590-67bdadcaef7a"
      },
      "execution_count": 9,
      "outputs": [
        {
          "output_type": "execute_result",
          "data": {
            "text/plain": [
              "(6550, 6348, 4)"
            ]
          },
          "metadata": {},
          "execution_count": 9
        }
      ]
    },
    {
      "cell_type": "code",
      "source": [
        "tiff.imwrite('Blue band.tiff',image_b)\n",
        "tiff.imwrite('Green band.tiff',image_g)\n",
        "tiff.imwrite('Red band.tiff',image_r)\n",
        "tiff.imwrite('Infra Red band.tiff',image_ir)\n",
        "\n",
        "del image_b\n",
        "del image_r\n",
        "del image_g\n",
        "del image_ir\n",
        "gc.collect()"
      ],
      "metadata": {
        "colab": {
          "base_uri": "https://localhost:8080/"
        },
        "id": "D99hn0SvI5eN",
        "outputId": "8dee2adb-213a-4326-e82a-e8171e325413"
      },
      "execution_count": 10,
      "outputs": [
        {
          "output_type": "execute_result",
          "data": {
            "text/plain": [
              "615"
            ]
          },
          "metadata": {},
          "execution_count": 10
        }
      ]
    },
    {
      "cell_type": "markdown",
      "source": [
        "#### Upsample MS images to size of PAN"
      ],
      "metadata": {
        "id": "pQSYZ87_yST_"
      }
    },
    {
      "cell_type": "code",
      "source": [
        "(pan_height,pan_width) = image_pan.shape[:2]"
      ],
      "metadata": {
        "id": "2C64ZCBPy3n8"
      },
      "execution_count": 11,
      "outputs": []
    },
    {
      "cell_type": "code",
      "source": [
        "ms_image_resize = cv2.resize(ms_image, (pan_width, pan_height), interpolation=cv2.INTER_LINEAR)"
      ],
      "metadata": {
        "id": "Zj3b38i6F6i-"
      },
      "execution_count": 12,
      "outputs": []
    },
    {
      "cell_type": "code",
      "source": [
        "pan_filtered =  cv2.GaussianBlur(image_pan, (5, 5), sigmaX=1.0)"
      ],
      "metadata": {
        "id": "RlD4JWQA_K-W"
      },
      "execution_count": 13,
      "outputs": []
    },
    {
      "cell_type": "code",
      "source": [
        "pan_hf = image_pan - pan_filtered"
      ],
      "metadata": {
        "id": "-ht59ZE4__qH"
      },
      "execution_count": 14,
      "outputs": []
    },
    {
      "cell_type": "code",
      "source": [
        "del pan_filtered\n",
        "gc.collect()"
      ],
      "metadata": {
        "colab": {
          "base_uri": "https://localhost:8080/"
        },
        "id": "zxjzhf4HJO7q",
        "outputId": "446d13f6-475c-4d94-cd93-737cabe9381a"
      },
      "execution_count": 15,
      "outputs": [
        {
          "output_type": "execute_result",
          "data": {
            "text/plain": [
              "0"
            ]
          },
          "metadata": {},
          "execution_count": 15
        }
      ]
    },
    {
      "cell_type": "code",
      "source": [
        "pan_sharpened_image = ms_image_resize + pan_hf[:, :, np.newaxis]"
      ],
      "metadata": {
        "id": "83Zu38vsBEg7"
      },
      "execution_count": 16,
      "outputs": []
    },
    {
      "cell_type": "code",
      "source": [
        "pan_sharpened_image.shape"
      ],
      "metadata": {
        "colab": {
          "base_uri": "https://localhost:8080/"
        },
        "id": "6BvP-syNHmP4",
        "outputId": "ae109736-8f87-46a9-b729-7f26c77b3431"
      },
      "execution_count": 17,
      "outputs": [
        {
          "output_type": "execute_result",
          "data": {
            "text/plain": [
              "(13105, 12715, 4)"
            ]
          },
          "metadata": {},
          "execution_count": 17
        }
      ]
    },
    {
      "cell_type": "code",
      "source": [
        "del ms_image_resize\n",
        "gc.collect()"
      ],
      "metadata": {
        "colab": {
          "base_uri": "https://localhost:8080/"
        },
        "id": "kXktdUqrJbg4",
        "outputId": "f7f50286-432a-41f6-a03f-57df7f827ae4"
      },
      "execution_count": 18,
      "outputs": [
        {
          "output_type": "execute_result",
          "data": {
            "text/plain": [
              "0"
            ]
          },
          "metadata": {},
          "execution_count": 18
        }
      ]
    },
    {
      "cell_type": "code",
      "source": [
        "# Resize PAN-sharpened image to MS resolution\n",
        "pan_sharpened_down = cv2.resize(pan_sharpened_image, (ms_image.shape[1], ms_image.shape[0]),interpolation=cv2.INTER_AREA)\n"
      ],
      "metadata": {
        "id": "y7rxJ_NLBEbz"
      },
      "execution_count": 19,
      "outputs": []
    },
    {
      "cell_type": "code",
      "source": [
        "pan_sharpened_down.shape"
      ],
      "metadata": {
        "id": "zGEt_alqD0wn",
        "colab": {
          "base_uri": "https://localhost:8080/"
        },
        "outputId": "54ab8f34-5c82-4cfa-c0fb-051864965261"
      },
      "execution_count": 20,
      "outputs": [
        {
          "output_type": "execute_result",
          "data": {
            "text/plain": [
              "(6550, 6348, 4)"
            ]
          },
          "metadata": {},
          "execution_count": 20
        }
      ]
    },
    {
      "cell_type": "code",
      "source": [
        "tiff.imwrite('Pansharpened_image.tiff',pan_sharpened_image[:,:,:3])\n",
        "tiff.imwrite('Multispectral_rgb_image.tiff',ms_image[:,:,:3])\n",
        "tiff.imwrite('PAN_HF_image.tiff',pan_hf)"
      ],
      "metadata": {
        "id": "hv68dVVlqLG4"
      },
      "execution_count": 21,
      "outputs": []
    },
    {
      "cell_type": "code",
      "source": [
        "del pan_sharpened_image\n",
        "del pan_hf\n",
        "gc.collect()"
      ],
      "metadata": {
        "id": "4cP8_an0JovR",
        "colab": {
          "base_uri": "https://localhost:8080/"
        },
        "outputId": "fc80b875-470a-4216-f111-9ed92bbd4b57"
      },
      "execution_count": 22,
      "outputs": [
        {
          "output_type": "execute_result",
          "data": {
            "text/plain": [
              "0"
            ]
          },
          "metadata": {},
          "execution_count": 22
        }
      ]
    },
    {
      "cell_type": "code",
      "source": [
        "sam_image, mean_sam = compute_sam(ms_image,pan_sharpened_down)\n",
        "psnr = compute_quality_metrics(ms_image,pan_sharpened_down)\n",
        "ergas = calculate_ergas(ms_image,pan_sharpened_down,4)\n",
        "rmse = compute_quality_metrics(ms_image,pan_sharpened_down,False)"
      ],
      "metadata": {
        "id": "R1Vtb9PwD2bY"
      },
      "execution_count": 24,
      "outputs": []
    },
    {
      "cell_type": "code",
      "source": [
        "print(psnr,rmse)"
      ],
      "metadata": {
        "id": "afUQh34gY-eL",
        "colab": {
          "base_uri": "https://localhost:8080/"
        },
        "outputId": "30f7ab86-b688-4850-bf31-5f302ff9c386"
      },
      "execution_count": 25,
      "outputs": [
        {
          "output_type": "stream",
          "name": "stdout",
          "text": [
            "{'PSNR': np.float64(34.40016652619282)} {'RMSE': np.float64(0.12448642608601042)}\n"
          ]
        }
      ]
    },
    {
      "cell_type": "code",
      "source": [
        "del ms_image\n",
        "del pan_sharpened_down\n",
        "gc.collect()"
      ],
      "metadata": {
        "id": "UYkIno01JxdF",
        "colab": {
          "base_uri": "https://localhost:8080/"
        },
        "outputId": "970a18bf-b9fa-4482-aa95-b2aa1897b9e7"
      },
      "execution_count": 26,
      "outputs": [
        {
          "output_type": "execute_result",
          "data": {
            "text/plain": [
              "200"
            ]
          },
          "metadata": {},
          "execution_count": 26
        }
      ]
    },
    {
      "cell_type": "code",
      "source": [
        "print(\"Mean SAM (rad):\", mean_sam)\n",
        "print(\"Mean SAM (deg):\", np.degrees(mean_sam))\n",
        "print(\"ERGAS:\", ergas)"
      ],
      "metadata": {
        "id": "D4jbu2nPEJ9g",
        "colab": {
          "base_uri": "https://localhost:8080/"
        },
        "outputId": "3e7457f5-378a-4106-dfbd-ff380719d2bb"
      },
      "execution_count": 27,
      "outputs": [
        {
          "output_type": "stream",
          "name": "stdout",
          "text": [
            "Mean SAM (rad): 0.010222357\n",
            "Mean SAM (deg): 0.5856979\n",
            "ERGAS: 50.987598612105934\n"
          ]
        }
      ]
    },
    {
      "cell_type": "code",
      "source": [],
      "metadata": {
        "id": "12mh4js2GQv6"
      },
      "execution_count": null,
      "outputs": []
    }
  ]
}